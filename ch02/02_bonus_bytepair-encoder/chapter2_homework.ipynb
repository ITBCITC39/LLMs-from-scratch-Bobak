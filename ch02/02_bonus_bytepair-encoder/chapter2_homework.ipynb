{
 "cells": [
  {
   "cell_type": "code",
   "id": "initial_id",
   "metadata": {
    "collapsed": true,
    "ExecuteTime": {
     "end_time": "2025-03-18T15:20:34.169332Z",
     "start_time": "2025-03-18T15:20:34.151456Z"
    }
   },
   "source": [
    "\"2.1\"\n",
    "def count_tokens(text):\n",
    "    \"\"\"\n",
    "    Counts the number of tokens in a text using whitespace tokenization.\n",
    "\n",
    "    Returns:\n",
    "    int: Number of tokens.\n",
    "    \"\"\"\n",
    "    tokens = text.strip().split()\n",
    "    return len(tokens)\n",
    "\n",
    "sample_text = \"Large language models are powerful tools.\"\n",
    "print(\"Number of tokens:\", count_tokens(sample_text))\n",
    "\n",
    "\n",
    "\n",
    "\"2.2\"\n",
    "\n",
    "def average_chars_per_token(text):\n",
    "    \"\"\"\n",
    "    Calculates the average number of characters per token\n",
    "    using whitespace tokenization.\n",
    "\n",
    "    Returns:\n",
    "    float: The average number of characters per token.\n",
    "    \"\"\"\n",
    "    tokens = text.split()\n",
    "    if not tokens:\n",
    "        return 0.0\n",
    "    total_chars = sum(len(token) for token in tokens)\n",
    "    return total_chars / len(tokens)\n",
    "\n",
    "example_text = \"Large language models are powerful tools.\"\n",
    "print(\"Average characters per token:\", average_chars_per_token(example_text))\n",
    "\n",
    "\n",
    "\"\"\"Example:\n",
    "Tokens: ['Large', 'language', 'models', 'are', 'powerful', 'tools.']\n",
    "Character lengths: [5, 8, 6, 3, 8, 6]  # 'tools.' counts as 6 due to the period\n",
    "Total characters: 36\n",
    "Number of tokens: 6\n",
    "Average = 36 / 6 = 6.0\n",
    "\"\"\"\n"
   ],
   "outputs": [
    {
     "name": "stdout",
     "output_type": "stream",
     "text": [
      "Number of tokens: 6\n",
      "Average characters per token: 6.0\n"
     ]
    },
    {
     "data": {
      "text/plain": [
       "\"Example:\\nTokens: ['Large', 'language', 'models', 'are', 'powerful', 'tools.']\\nCharacter lengths: [5, 8, 6, 3, 8, 6]  # 'tools.' counts as 6 due to the period\\nTotal characters: 36\\nNumber of tokens: 6\\nAverage = 36 / 6 = 6.0\\n\""
      ]
     },
     "execution_count": 2,
     "metadata": {},
     "output_type": "execute_result"
    }
   ],
   "execution_count": 2
  }
 ],
 "metadata": {
  "kernelspec": {
   "display_name": "Python 3",
   "language": "python",
   "name": "python3"
  },
  "language_info": {
   "codemirror_mode": {
    "name": "ipython",
    "version": 2
   },
   "file_extension": ".py",
   "mimetype": "text/x-python",
   "name": "python",
   "nbconvert_exporter": "python",
   "pygments_lexer": "ipython2",
   "version": "2.7.6"
  }
 },
 "nbformat": 4,
 "nbformat_minor": 5
}
